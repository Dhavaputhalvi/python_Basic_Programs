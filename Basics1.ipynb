{
  "nbformat": 4,
  "nbformat_minor": 0,
  "metadata": {
    "colab": {
      "provenance": []
    },
    "kernelspec": {
      "name": "python3",
      "display_name": "Python 3"
    },
    "language_info": {
      "name": "python"
    }
  },
  "cells": [
    {
      "cell_type": "code",
      "execution_count": 1,
      "metadata": {
        "colab": {
          "base_uri": "https://localhost:8080/"
        },
        "id": "zsfx4A6-kw4m",
        "outputId": "53e12cf4-9070-40de-9672-3606c026c222"
      },
      "outputs": [
        {
          "output_type": "stream",
          "name": "stdout",
          "text": [
            "Hello World!\n"
          ]
        }
      ],
      "source": [
        "#Print Hello World!\n",
        "print(\"Hello World!\")"
      ]
    },
    {
      "cell_type": "code",
      "source": [
        "#Addition of Two Numbers\n",
        "a=int(input(\"Enter Number1:\"))\n",
        "b=int(input(\"Enter Number2:\"))\n",
        "print(\"The sum of two Numbers is\",a+b)"
      ],
      "metadata": {
        "colab": {
          "base_uri": "https://localhost:8080/"
        },
        "id": "17V2-jwflAZh",
        "outputId": "77ee05ad-2895-44ef-800f-cb6c22caae4a"
      },
      "execution_count": 2,
      "outputs": [
        {
          "output_type": "stream",
          "name": "stdout",
          "text": [
            "Enter Number1:3\n",
            "Enter Number2:3\n",
            "The sum of two Numbers is 6\n"
          ]
        }
      ]
    },
    {
      "cell_type": "code",
      "source": [
        "#Check a number is Odd or Even\n",
        "a=int(input(\"Enter a Number:\"))\n",
        "print(\"Even\" if(a%2==0) else \"Odd\")"
      ],
      "metadata": {
        "colab": {
          "base_uri": "https://localhost:8080/"
        },
        "id": "vYHXs0ekld67",
        "outputId": "a8fb8c28-7c58-4a06-e4f8-71cd835b97f9"
      },
      "execution_count": 4,
      "outputs": [
        {
          "output_type": "stream",
          "name": "stdout",
          "text": [
            "Enter a Number:5\n",
            "Odd\n"
          ]
        }
      ]
    },
    {
      "cell_type": "code",
      "source": [
        "#Factorial of a number\n",
        "n=int(input(\"Enter a Number:\"))\n",
        "fact=1\n",
        "if(n==1 or n==0):\n",
        "    fact=1\n",
        "else:\n",
        "  for i in range(1,n+1):\n",
        "    fact=fact*i\n",
        "print(fact)"
      ],
      "metadata": {
        "colab": {
          "base_uri": "https://localhost:8080/"
        },
        "id": "QjX0p2j0l6OS",
        "outputId": "35bf277b-644f-4102-f343-ac617ac21223"
      },
      "execution_count": 18,
      "outputs": [
        {
          "output_type": "stream",
          "name": "stdout",
          "text": [
            "Enter a Number:0\n",
            "1\n"
          ]
        }
      ]
    },
    {
      "cell_type": "code",
      "source": [
        "#Palindrome Checker\n",
        "a=str(input(\"Enter a String:\"))\n",
        "reversed=a[::-1]\n",
        "if(a==reversed):\n",
        "  print(\"palindrome\")\n",
        "else:\n",
        "  print(\"Not Palindrome\")"
      ],
      "metadata": {
        "colab": {
          "base_uri": "https://localhost:8080/"
        },
        "id": "Uk-byg6co01l",
        "outputId": "b989e3c0-0a18-447f-c19b-6a64dd825501"
      },
      "execution_count": 22,
      "outputs": [
        {
          "output_type": "stream",
          "name": "stdout",
          "text": [
            "Enter a String:malayalam\n",
            "palindrome\n"
          ]
        }
      ]
    },
    {
      "cell_type": "code",
      "source": [
        "#Swapping of two numbers\n",
        "n1=int(input(\"Enter Number 1:\"))\n",
        "n2=int(input(\"Enter Number 2:\"))\n",
        "print(f\"Before Swapping Number1={n1} \\n Number2-{n2}\")\n",
        "n1,n2=n2,n1\n",
        "print(f\"After Swapping Number1={n1} \\n Number2-{n2}\")"
      ],
      "metadata": {
        "colab": {
          "base_uri": "https://localhost:8080/"
        },
        "id": "xQ1u-SUspYb0",
        "outputId": "c4d4f578-2b8f-4a44-9de1-659e07569bab"
      },
      "execution_count": 23,
      "outputs": [
        {
          "output_type": "stream",
          "name": "stdout",
          "text": [
            "Enter Number 1:2\n",
            "Enter Number 2:4\n",
            "Before Swapping Number1=2 \n",
            " Number2-4\n",
            "After Swapping Number1=4 \n",
            " Number2-2\n"
          ]
        }
      ]
    },
    {
      "cell_type": "code",
      "source": [
        "#Reverse of a string\n",
        "a=str(input(\"Enter a String:\"))\n",
        "reversed=a[::-1]\n",
        "print(\"Reversed String is\",reversed)"
      ],
      "metadata": {
        "colab": {
          "base_uri": "https://localhost:8080/"
        },
        "id": "d7Do9SlppYiT",
        "outputId": "6122602e-ba15-4fc9-d019-164342035b1c"
      },
      "execution_count": 24,
      "outputs": [
        {
          "output_type": "stream",
          "name": "stdout",
          "text": [
            "Enter a String:dffdf\n",
            "Reversed String is fdffd\n"
          ]
        }
      ]
    }
  ]
}