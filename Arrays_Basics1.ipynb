{
  "nbformat": 4,
  "nbformat_minor": 0,
  "metadata": {
    "colab": {
      "provenance": []
    },
    "kernelspec": {
      "name": "python3",
      "display_name": "Python 3"
    },
    "language_info": {
      "name": "python"
    }
  },
  "cells": [
    {
      "cell_type": "code",
      "execution_count": null,
      "metadata": {
        "id": "MLq6Crd9wJzf"
      },
      "outputs": [],
      "source": [
        "import numpy as np\n",
        "import pandas as pd"
      ]
    },
    {
      "cell_type": "code",
      "source": [
        "#To find Max,min,sum,reverse Value in an Array\n",
        "arr=[1,2,43,2,4,5,7,88,2,90]\n",
        "print(\"maximum value in the array is\",max(arr))\n",
        "print(\"manimum value in the array is\",min(arr))\n",
        "print(\"Sum of values in the array is\",sum(arr))\n",
        "print(\"Reversed array is\",arr[::-1])\n",
        "print(\"Count of 2 in array is \",arr.count(2))"
      ],
      "metadata": {
        "colab": {
          "base_uri": "https://localhost:8080/"
        },
        "id": "seZWC3LwwdtM",
        "outputId": "1b024f0c-43e0-4fca-aec4-b7dd30479337"
      },
      "execution_count": null,
      "outputs": [
        {
          "output_type": "stream",
          "name": "stdout",
          "text": [
            "maximum value in the array is 90\n",
            "manimum value in the array is 1\n",
            "Sum of values in the array is 244\n",
            "Reversed array is [90, 2, 88, 7, 5, 4, 2, 43, 2, 1]\n",
            "Count of 2 in array is  3\n"
          ]
        }
      ]
    },
    {
      "cell_type": "code",
      "source": [
        "#Merge array Elements\n",
        "arr1=[1,2,43,2,4,5,7,88,90]\n",
        "arr2=[3,4,22,55,7,3,4,5,5,7]\n",
        "print(\"Merged array is\",arr1+arr2)"
      ],
      "metadata": {
        "colab": {
          "base_uri": "https://localhost:8080/"
        },
        "id": "HZcG2o_vxfse",
        "outputId": "934a7f01-68ee-401c-cc9e-032fb3226834"
      },
      "execution_count": null,
      "outputs": [
        {
          "output_type": "stream",
          "name": "stdout",
          "text": [
            "Merged array is [1, 2, 43, 2, 4, 5, 7, 88, 90, 3, 4, 22, 55, 7, 3, 4, 5, 5, 7]\n"
          ]
        }
      ]
    },
    {
      "cell_type": "code",
      "source": [
        "#Array without duplicates\n",
        "arr=[1,2,43,2,4,5,7,88,90]\n",
        "print(\"without duplicates \\n\",list(set(arr)))"
      ],
      "metadata": {
        "colab": {
          "base_uri": "https://localhost:8080/"
        },
        "id": "1IgzRl55yQzX",
        "outputId": "500c83e0-86e8-468a-d714-197646084e4b"
      },
      "execution_count": null,
      "outputs": [
        {
          "output_type": "stream",
          "name": "stdout",
          "text": [
            "without duplicates \n",
            " [1, 2, 4, 5, 7, 43, 88, 90]\n"
          ]
        }
      ]
    },
    {
      "cell_type": "code",
      "source": [
        "arr=[1,2,43,2,4,5,7,88,20,99,90]\n",
        "arr.sort()\n",
        "print(\"The second largest number in the arr is\",arr[-2])"
      ],
      "metadata": {
        "colab": {
          "base_uri": "https://localhost:8080/"
        },
        "id": "U6X0JkbJzKlj",
        "outputId": "4644b1b9-05b3-4603-973e-c2fdfed5381f"
      },
      "execution_count": null,
      "outputs": [
        {
          "output_type": "stream",
          "name": "stdout",
          "text": [
            "The second largest number in the arr is 90\n"
          ]
        }
      ]
    },
    {
      "cell_type": "code",
      "source": [
        "#Array with nan Values\n",
        "arr=[1,np.nan,43,2,4,np.nan,7,88,None]\n",
        "print(arr)"
      ],
      "metadata": {
        "colab": {
          "base_uri": "https://localhost:8080/"
        },
        "id": "nHVh9YfT1Nn4",
        "outputId": "225ffefc-1a82-49f5-e953-1b28c0aca9fe"
      },
      "execution_count": null,
      "outputs": [
        {
          "output_type": "stream",
          "name": "stdout",
          "text": [
            "[1, nan, 43, 2, 4, nan, 7, 88, None]\n"
          ]
        }
      ]
    },
    {
      "cell_type": "code",
      "source": [
        "arr=[1,2,43,2,4,5,7,88,20,99,90]\n",
        "#Printting original array\n",
        "print(arr)\n",
        "#Appending value to array Syntax:arr.extend(more than 1 element in list format)\n",
        "arr.append(100)\n",
        "arr.extend([1,220])\n",
        "print(arr)\n",
        "#Inserting array element in specified position\n",
        "arr.insert(0,25)\n",
        "print(arr)\n",
        "#Upadating elements\n",
        "arr[5]=7\n",
        "print(arr)\n",
        "#Removing element 43\n",
        "arr.remove(43)\n",
        "print(arr)\n",
        "#Removing last element\n",
        "arr.pop()\n",
        "#Removing particular element Syntax:arr.pop(index)\n",
        "arr.pop(1)\n",
        "print(arr)"
      ],
      "metadata": {
        "colab": {
          "base_uri": "https://localhost:8080/"
        },
        "id": "b2L33vC2dtQz",
        "outputId": "d3ba3bb5-8058-4783-bfbe-07303151e02b"
      },
      "execution_count": null,
      "outputs": [
        {
          "output_type": "stream",
          "name": "stdout",
          "text": [
            "[1, 2, 43, 2, 4, 5, 7, 88, 20, 99, 90]\n",
            "[1, 2, 43, 2, 4, 5, 7, 88, 20, 99, 90, 100, 1, 220]\n",
            "[25, 1, 2, 43, 2, 4, 5, 7, 88, 20, 99, 90, 100, 1, 220]\n",
            "[25, 1, 2, 43, 2, 7, 5, 7, 88, 20, 99, 90, 100, 1, 220]\n",
            "[25, 1, 2, 2, 7, 5, 7, 88, 20, 99, 90, 100, 1, 220]\n",
            "[25, 2, 2, 7, 5, 7, 88, 20, 99, 90, 100, 1]\n"
          ]
        }
      ]
    },
    {
      "cell_type": "code",
      "source": [
        "#Iterating array elements\n",
        "arr=[1,2,43,2,4,5,7,88,20,99,90]\n",
        "for ele in arr:\n",
        "  print(ele)\n",
        "#searching an element\n",
        "if(arr.index(7)):\n",
        "  print(\"element exists\")"
      ],
      "metadata": {
        "colab": {
          "base_uri": "https://localhost:8080/"
        },
        "id": "QxTSUj89f0S7",
        "outputId": "b0a38a9d-d5d8-4bbb-82bf-8ccdf2ac61d2"
      },
      "execution_count": null,
      "outputs": [
        {
          "output_type": "stream",
          "name": "stdout",
          "text": [
            "1\n",
            "2\n",
            "43\n",
            "2\n",
            "4\n",
            "5\n",
            "7\n",
            "88\n",
            "20\n",
            "99\n",
            "90\n",
            "element exists\n"
          ]
        }
      ]
    },
    {
      "cell_type": "code",
      "source": [
        "#store all even Numbers in another array\n",
        "arr=[1,2,43,2,4,5,7,88,20,99,90]\n",
        "EvenArr=[]\n",
        "arr=list(set(arr))\n",
        "print(arr)\n",
        "# for i in range(0,len(arr)-1):\n",
        "#   if(arr[i]%2==0):\n",
        "#     EvenArr.append(arr[i])\n",
        "# print(EvenArr)\n",
        "for i in arr:\n",
        "  if(i%2==0):\n",
        "    EvenArr.append(i)\n",
        "print(EvenArr)"
      ],
      "metadata": {
        "colab": {
          "base_uri": "https://localhost:8080/"
        },
        "id": "Fmi7MaLsk_s8",
        "outputId": "88fb8587-841f-4a00-bab4-81795ebaa734"
      },
      "execution_count": null,
      "outputs": [
        {
          "output_type": "stream",
          "name": "stdout",
          "text": [
            "[1, 2, 99, 4, 5, 7, 43, 20, 88, 90]\n",
            "[2, 4, 20, 88, 90]\n"
          ]
        }
      ]
    },
    {
      "cell_type": "code",
      "source": [
        "#Copying arr to another array\n",
        "import copy\n",
        "arr=[1,2,43,2,4,5,7,88,20,99,90]\n",
        "copiedArr=arr.copy()\n",
        "print(\"Using copy method \",copiedArr)\n",
        "newarr=copy.deepcopy(arr)\n",
        "print(\"Using deep copy method \",newarr)"
      ],
      "metadata": {
        "colab": {
          "base_uri": "https://localhost:8080/"
        },
        "id": "JTIksqTPs1mQ",
        "outputId": "a9051b62-5a68-4462-e59e-9d000c6783b1"
      },
      "execution_count": null,
      "outputs": [
        {
          "output_type": "stream",
          "name": "stdout",
          "text": [
            "Using copy method  [1, 2, 43, 2, 4, 5, 7, 88, 20, 99, 90]\n",
            "Using deep copy method  [1, 2, 43, 2, 4, 5, 7, 88, 20, 99, 90]\n"
          ]
        }
      ]
    },
    {
      "cell_type": "code",
      "source": [
        "arr=[1,2,43,2,4,5,7,88,20,99,90]\n",
        "#Using reverse()\n",
        "arr.reverse()\n",
        "print(\"Using reverse method \",arr)\n",
        "#Using reversed(array)\n",
        "print(\"Using reversed method \",list(reversed(arr)))"
      ],
      "metadata": {
        "colab": {
          "base_uri": "https://localhost:8080/"
        },
        "id": "FmmUK8eNuh82",
        "outputId": "1315450e-7b40-4aa3-8012-229037f173ee"
      },
      "execution_count": null,
      "outputs": [
        {
          "output_type": "stream",
          "name": "stdout",
          "text": [
            "Using reverse method  [90, 99, 20, 88, 7, 5, 4, 2, 43, 2, 1]\n",
            "Using reversed method  [1, 2, 43, 2, 4, 5, 7, 88, 20, 99, 90]\n"
          ]
        }
      ]
    }
  ]
}